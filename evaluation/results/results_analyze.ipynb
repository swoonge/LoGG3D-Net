{
 "cells": [
  {
   "cell_type": "code",
   "execution_count": 1,
   "metadata": {},
   "outputs": [],
   "source": [
    "import os\n",
    "import pickle\n",
    "import pandas as pd\n",
    "\n",
    "# 현재 디렉토리의 피클 파일들을 불러오기\n",
    "current_dir = '.'  # 현재 디렉토리\n",
    "pickle_files = [f for f in os.listdir(current_dir) if f.endswith('.pkl')]  # .pkl 확장자 파일들\n",
    "topk = [1,5,20]"
   ]
  },
  {
   "cell_type": "code",
   "execution_count": 5,
   "metadata": {},
   "outputs": [],
   "source": [
    "# 피클 파일들의 데이터를 데이터프레임으로 변환\n",
    "dataframes_dict = {}\n",
    "\n",
    "for file_name in pickle_files:\n",
    "    file_path = os.path.join(current_dir, file_name)  # 피클 파일 경로\n",
    "    \n",
    "    # 피클 파일 불러오기\n",
    "    with open(file_path, 'rb') as file:\n",
    "        data = pickle.load(file)\n",
    "    \n",
    "    # 데이터가 리스트로 구성되어 있는지 확인 후 데이터프레임으로 변환\n",
    "    sheet_dataframes = [pd.DataFrame(sheet_data) for sheet_data in data]  # 각 리스트를 데이터프레임으로 변환\n",
    "    corrected_sheets = []\n",
    "    \n",
    "    for df in sheet_dataframes:\n",
    "        # 각 행이 딕셔너리 형태인 경우 이를 펼쳐서 변환\n",
    "        expanded_df = pd.json_normalize(df[0])  # 각 행의 딕셔너리를 개별 컬럼으로 변환\n",
    "        corrected_sheets.append(expanded_df)\n",
    "    \n",
    "    dataframes_dict[file_name] = corrected_sheets  # 파일 이름을 키로 데이터프레임 리스트 저장"
   ]
  },
  {
   "cell_type": "code",
   "execution_count": 10,
   "metadata": {},
   "outputs": [
    {
     "data": {
      "text/plain": [
       "'OT_LoGG3D_Loss.xlsx'"
      ]
     },
     "execution_count": 10,
     "metadata": {},
     "output_type": "execute_result"
    }
   ],
   "source": [
    "# 엑셀 파일로 저장\n",
    "for file_name, sheet_dataframes in dataframes_dict.items():\n",
    "    # 엑셀 파일 경로 설정 (파일명 변경)\n",
    "    excel_path = os.path.splitext(file_name)[0] + '.xlsx'\n",
    "    \n",
    "    # 여러 시트를 가진 엑셀 파일로 저장\n",
    "    with pd.ExcelWriter(excel_path) as writer:\n",
    "        for i, df in enumerate(sheet_dataframes):\n",
    "            sheet_name = f\"topk_{topk[i]}\"  # 시트 이름 설정\n",
    "            df.to_excel(writer, sheet_name=sheet_name, index=False)  # 시트에 작성\n",
    "\n",
    "excel_path  # 마지막 파일의 저장 경로 확인"
   ]
  }
 ],
 "metadata": {
  "kernelspec": {
   "display_name": "oltransformer",
   "language": "python",
   "name": "python3"
  },
  "language_info": {
   "codemirror_mode": {
    "name": "ipython",
    "version": 3
   },
   "file_extension": ".py",
   "mimetype": "text/x-python",
   "name": "python",
   "nbconvert_exporter": "python",
   "pygments_lexer": "ipython3",
   "version": "3.10.13"
  }
 },
 "nbformat": 4,
 "nbformat_minor": 2
}
