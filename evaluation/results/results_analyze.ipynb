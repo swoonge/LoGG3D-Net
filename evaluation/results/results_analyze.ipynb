{
 "cells": [
  {
   "cell_type": "code",
   "execution_count": 11,
   "metadata": {},
   "outputs": [],
   "source": [
    "import os\n",
    "import pickle\n",
    "import pandas as pd\n",
    "import numpy as np\n",
    "import matplotlib.pyplot as plt\n",
    "\n",
    "# 현재 디렉토리의 피클 파일들을 불러오기\n",
    "current_dir = '.'  # 현재 디렉토리\n",
    "pickle_files = [f for f in os.listdir(current_dir) if f.endswith('.pkl')]  # .pkl 확장자 파일들\n",
    "topk = [1,5,20]"
   ]
  },
  {
   "cell_type": "code",
   "execution_count": 12,
   "metadata": {},
   "outputs": [],
   "source": [
    "def save_excel(df, dataframes_dict):\n",
    "    # 엑셀 파일로 저장\n",
    "    for file_name, sheet_dataframes in dataframes_dict.items():\n",
    "        # 엑셀 파일 경로 설정 (파일명 변경)\n",
    "        excel_path = os.path.splitext(file_name)[0] + '.xlsx'\n",
    "        \n",
    "        # 여러 시트를 가진 엑셀 파일로 저장\n",
    "        with pd.ExcelWriter(excel_path) as writer:\n",
    "            for i, df in enumerate(sheet_dataframes):\n",
    "                sheet_name = f\"topk_{topk[i]}\"  # 시트 이름 설정\n",
    "                df.to_excel(writer, sheet_name=sheet_name, index=False)  # 시트에 작성\n",
    "\n",
    "    excel_path  # 마지막 파일의 저장 경로 확인"
   ]
  },
  {
   "cell_type": "code",
   "execution_count": 13,
   "metadata": {},
   "outputs": [],
   "source": [
    "def load_pickle_and_convert_df(pickle_files):\n",
    "    # 피클 파일들의 데이터를 데이터프레임으로 변환\n",
    "    dataframes_dict = {}\n",
    "\n",
    "    for file_name in pickle_files:\n",
    "        file_path = os.path.join(current_dir, file_name)  # 피클 파일 경로\n",
    "        \n",
    "        # 피클 파일 불러오기\n",
    "        with open(file_path, 'rb') as file:\n",
    "            data = pickle.load(file)\n",
    "        \n",
    "        # 데이터가 리스트로 구성되어 있는지 확인 후 데이터프레임으로 변환\n",
    "        sheet_dataframes = [pd.DataFrame(sheet_data) for sheet_data in data]  # 각 리스트를 데이터프레임으로 변환\n",
    "        corrected_sheets = []\n",
    "        \n",
    "        for df in sheet_dataframes:\n",
    "            # 각 행이 딕셔너리 형태인 경우 이를 펼쳐서 변환\n",
    "            expanded_df = pd.json_normalize(df[0])  # 각 행의 딕셔너리를 개별 컬럼으로 변환\n",
    "            corrected_sheets.append(expanded_df)\n",
    "            thresholds = np.linspace(0.001, 0.8, 500)\n",
    "            expanded_df.insert(0, 'Thresholds', thresholds[:len(expanded_df)])\n",
    "        \n",
    "        dataframes_dict[file_name] = corrected_sheets  # 파일 이름을 키로 데이터프레임 리스트 저장\n",
    "    return dataframes_dict"
   ]
  },
  {
   "cell_type": "code",
   "execution_count": 24,
   "metadata": {},
   "outputs": [
    {
     "ename": "TypeError",
     "evalue": "list indices must be integers or slices, not tuple",
     "output_type": "error",
     "traceback": [
      "\u001b[0;31m---------------------------------------------------------------------------\u001b[0m",
      "\u001b[0;31mTypeError\u001b[0m                                 Traceback (most recent call last)",
      "Cell \u001b[0;32mIn[24], line 4\u001b[0m\n\u001b[1;32m      1\u001b[0m dataframes_dict \u001b[38;5;241m=\u001b[39m load_pickle_and_convert_df(pickle_files)\n\u001b[1;32m      2\u001b[0m \u001b[38;5;28;01mfor\u001b[39;00m df \u001b[38;5;129;01min\u001b[39;00m dataframes_dict\u001b[38;5;241m.\u001b[39mvalues():\n\u001b[0;32m----> 4\u001b[0m     x \u001b[38;5;241m=\u001b[39m \u001b[43mdf\u001b[49m\u001b[43m[\u001b[49m\u001b[43m:\u001b[49m\u001b[43m,\u001b[49m\u001b[43m \u001b[49m\u001b[38;5;241;43m0\u001b[39;49m\u001b[43m]\u001b[49m  \u001b[38;5;66;03m# 첫 번째 열\u001b[39;00m\n\u001b[1;32m      5\u001b[0m     y \u001b[38;5;241m=\u001b[39m df[:, \u001b[38;5;241m5\u001b[39m]  \u001b[38;5;66;03m# 여섯 번째 열\u001b[39;00m\n\u001b[1;32m      7\u001b[0m     \u001b[38;5;66;03m# 그래프 생성\u001b[39;00m\n",
      "\u001b[0;31mTypeError\u001b[0m: list indices must be integers or slices, not tuple"
     ]
    }
   ],
   "source": [
    "dataframes_dict = load_pickle_and_convert_df(pickle_files)\n",
    "for df in dataframes_dict.values():\n",
    "\n",
    "    x = df[:, 0]  # 첫 번째 열\n",
    "    y = df[:, 5]  # 여섯 번째 열\n",
    "        \n",
    "    # 그래프 생성\n",
    "    plt.figure(figsize=(10, 6))\n",
    "    plt.plot(x, y, marker='o', linestyle='-')\n",
    "    plt.xlabel(df.columns[0])  # 첫 번째 열의 이름을 x축 레이블로 사용\n",
    "    plt.ylabel(df.columns[5])  # 여섯 번째 열의 이름을 y축 레이블로 사용\n",
    "    # plt.title(f'{model_name}')\n",
    "    plt.grid(True)\n",
    "    plt.show()"
   ]
  },
  {
   "cell_type": "code",
   "execution_count": null,
   "metadata": {},
   "outputs": [],
   "source": []
  },
  {
   "cell_type": "code",
   "execution_count": null,
   "metadata": {},
   "outputs": [],
   "source": []
  }
 ],
 "metadata": {
  "kernelspec": {
   "display_name": "oltransformer",
   "language": "python",
   "name": "python3"
  },
  "language_info": {
   "codemirror_mode": {
    "name": "ipython",
    "version": 3
   },
   "file_extension": ".py",
   "mimetype": "text/x-python",
   "name": "python",
   "nbconvert_exporter": "python",
   "pygments_lexer": "ipython3",
   "version": "3.10.14"
  }
 },
 "nbformat": 4,
 "nbformat_minor": 2
}
